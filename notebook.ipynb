{
 "cells": [
  {
   "cell_type": "code",
   "execution_count": null,
   "id": "3fafd158",
   "metadata": {},
   "outputs": [],
   "source": [
    "# from moccasin import setup_notebook\n",
    "\n",
    "# setup_notebook()"
   ]
  },
  {
   "cell_type": "code",
   "execution_count": 2,
   "id": "e7e3163e",
   "metadata": {},
   "outputs": [
    {
     "name": "stdout",
     "output_type": "stream",
     "text": [
      "eth-forked\n"
     ]
    }
   ],
   "source": [
    "from moccasin.config import get_active_network\n",
    "\n",
    "active_network = get_active_network()\n",
    "print(active_network.name)"
   ]
  },
  {
   "cell_type": "code",
   "execution_count": 3,
   "id": "4f4e3a18",
   "metadata": {},
   "outputs": [
    {
     "name": "stdout",
     "output_type": "stream",
     "text": [
      "Setting up script...\n",
      "USDC balance before: 0\n",
      "USDC balance after: 100000000\n"
     ]
    }
   ],
   "source": [
    "from boa.contracts.abi.abi_contract import ABIContract\n",
    "from typing import Tuple\n",
    "from moccasin.config import get_active_network\n",
    "import boa\n",
    "\n",
    "STARTING_ETH_BALANCE = int(1000e18)\n",
    "STARTING_WETH_BALANCE = int(1e18)\n",
    "STARTING_USDC_BALANCE = int(100e6)\n",
    "\n",
    "def _add_eth_balance():\n",
    "    boa.env.set_balance(boa.env.eoa, STARTING_ETH_BALANCE)\n",
    "\n",
    "def _add_token_balance(usdc, weth):\n",
    "    print(f\"USDC balance before: {usdc.balanceOf(boa.env.eoa)}\")\n",
    "    weth.deposit(value=STARTING_WETH_BALANCE)\n",
    "    our_address = boa.env.eoa\n",
    "    with boa.env.prank(usdc.owner()):\n",
    "        usdc.updateMasterMinter(our_address)\n",
    "    usdc.configureMinter(our_address, STARTING_USDC_BALANCE)\n",
    "    usdc.mint(our_address, STARTING_USDC_BALANCE)\n",
    "    print(f\"USDC balance after: {usdc.balanceOf(boa.env.eoa)}\")\n",
    "\n",
    "def setup_script() -> Tuple[ABIContract, ABIContract, ABIContract, ABIContract]:\n",
    "    print(\"Setting up script...\")\n",
    "\n",
    "    # 1. Give ourselve some ETH\n",
    "    # 2. Give ourselve some USDC and WETH\n",
    "    active_network = get_active_network()\n",
    "\n",
    "    usdc = active_network.manifest_named(\"usdc\")\n",
    "    weth = active_network.manifest_named(\"weth\")\n",
    "\n",
    "    if active_network.is_local_or_forked_network():\n",
    "        _add_eth_balance()\n",
    "        _add_token_balance(usdc, weth)\n",
    "\n",
    "def moccasin_main():\n",
    "    setup_script()\n",
    "\n",
    "moccasin_main()"
   ]
  },
  {
   "cell_type": "code",
   "execution_count": 4,
   "id": "ac4dac44",
   "metadata": {},
   "outputs": [],
   "source": [
    "usdc = active_network.manifest_named(\"usdc\")\n",
    "weth = active_network.manifest_named(\"weth\")"
   ]
  },
  {
   "cell_type": "code",
   "execution_count": 5,
   "id": "1e3bb320",
   "metadata": {},
   "outputs": [
    {
     "name": "stdout",
     "output_type": "stream",
     "text": [
      "0x87870Bca3F3fD6335C3F4ce8392D69350B4fA4E2\n"
     ]
    }
   ],
   "source": [
    "from moccasin.config import get_config\n",
    "\n",
    "config = get_config()\n",
    "config.reload()\n",
    "active_network = config.get_active_network()\n",
    "aave3_pool_address_provider = active_network.manifest_named(\"aave3_pool_address_provider\")\n",
    "pool_address = aave3_pool_address_provider.getPool()\n",
    "print(pool_address)\n",
    "\n",
    "config.reload()\n",
    "active_network = config.get_active_network()\n",
    "pool_contract = active_network.manifest_named(\"pool\", address=pool_address)"
   ]
  },
  {
   "cell_type": "code",
   "execution_count": 6,
   "id": "a5ef18ae",
   "metadata": {},
   "outputs": [
    {
     "name": "stdout",
     "output_type": "stream",
     "text": [
      "Depositing USD Coin into Aave contract 0x87870Bca3F3fD6335C3F4ce8392D69350B4fA4E2...\n",
      "Depositing Wrapped Ether into Aave contract 0x87870Bca3F3fD6335C3F4ce8392D69350B4fA4E2...\n",
      "User account data:\n",
      "        totalCollateralBase: 261680970990\n",
      "        totalDebtBase: 0\n",
      "        availableBorrowsBase: 210077483511\n",
      "        currentLiquidationThreshold: 8280\n",
      "        ltv: 8028\n",
      "        healthFactor: 115792089237316195423570985008687907853269984665640564039457584007913129639935\n",
      "          \n"
     ]
    }
   ],
   "source": [
    "REFERRAL_CODE = 0  # Set to 0 for no referral code\n",
    "\n",
    "def deposit(pool_contract, token, amount):\n",
    "    allowed_amount = token.allowance(boa.env.eoa, pool_contract.address)\n",
    "    if allowed_amount < amount:\n",
    "        token.approve(pool_contract.address, amount)\n",
    "    print(f\"Depositing {token.name()} into Aave contract {pool_contract.address}...\")\n",
    "    pool_contract.supply(token.address, amount, boa.env.eoa, REFERRAL_CODE)\n",
    "\n",
    "usdc_balance = usdc.balanceOf(boa.env.eoa)\n",
    "weth_balance = weth.balanceOf(boa.env.eoa)\n",
    "\n",
    "if usdc_balance > 0:\n",
    "    deposit(pool_contract, usdc, usdc_balance)\n",
    "\n",
    "if weth_balance > 0:\n",
    "    deposit(pool_contract, weth, weth_balance)\n",
    "\n",
    "(\n",
    "        totalCollateralBase,\n",
    "        totalDebtBase,\n",
    "        availableBorrowsBase,\n",
    "        currentLiquidationThreshold,\n",
    "        ltv,\n",
    "        healthFactor,\n",
    "    ) = pool_contract.getUserAccountData(boa.env.eoa)\n",
    "print(f\"\"\"User account data:\n",
    "        totalCollateralBase: {totalCollateralBase}\n",
    "        totalDebtBase: {totalDebtBase}\n",
    "        availableBorrowsBase: {availableBorrowsBase}\n",
    "        currentLiquidationThreshold: {currentLiquidationThreshold}\n",
    "        ltv: {ltv}\n",
    "        healthFactor: {healthFactor}\n",
    "          \"\"\")\n"
   ]
  },
  {
   "cell_type": "code",
   "execution_count": 7,
   "id": "80ca3c13",
   "metadata": {},
   "outputs": [
    {
     "name": "stdout",
     "output_type": "stream",
     "text": [
      "[getAllATokens(symbol='aEthWETH', tokenAddress=Address('0x4d5F47FA6A74757f35C14fD3a6Ef8E3C9BC514E8')), getAllATokens(symbol='aEthwstETH', tokenAddress=Address('0x0B925eD163218f6662a35e0f0371Ac234f9E9371')), getAllATokens(symbol='aEthWBTC', tokenAddress=Address('0x5Ee5bf7ae06D1Be5997A1A72006FE6C607eC6DE8')), getAllATokens(symbol='aEthUSDC', tokenAddress=Address('0x98C23E9d8f34FEFb1B7BD6a91B7FF122F4e16F5c')), getAllATokens(symbol='aEthDAI', tokenAddress=Address('0x018008bfb33d285247A21d44E50697654f754e63')), getAllATokens(symbol='aEthLINK', tokenAddress=Address('0x5E8C8A7243651DB1384C0dDfDbE39761E8e7E51a')), getAllATokens(symbol='aEthAAVE', tokenAddress=Address('0xA700b4eB416Be35b2911fd5Dee80678ff64fF6C9')), getAllATokens(symbol='aEthcbETH', tokenAddress=Address('0x977b6fc5dE62598B08C85AC8Cf2b745874E8b78c')), getAllATokens(symbol='aEthUSDT', tokenAddress=Address('0x23878914EFE38d27C4D67Ab83ed1b93A74D4086a')), getAllATokens(symbol='aEthrETH', tokenAddress=Address('0xCc9EE9483f662091a1de4795249E24aC0aC2630f')), getAllATokens(symbol='aEthLUSD', tokenAddress=Address('0x3Fe6a295459FAe07DF8A0ceCC36F37160FE86AA9')), getAllATokens(symbol='aEthCRV', tokenAddress=Address('0x7B95Ec873268a6BFC6427e7a28e396Db9D0ebc65')), getAllATokens(symbol='aEthMKR', tokenAddress=Address('0x8A458A9dc9048e005d22849F470891b840296619')), getAllATokens(symbol='aEthSNX', tokenAddress=Address('0xC7B4c17861357B8ABB91F25581E7263E08DCB59c')), getAllATokens(symbol='aEthBAL', tokenAddress=Address('0x2516E7B3F76294e03C42AA4c5b5b4DCE9C436fB8')), getAllATokens(symbol='aEthUNI', tokenAddress=Address('0xF6D2224916DDFbbab6e6bd0D1B7034f4Ae0CaB18')), getAllATokens(symbol='aEthLDO', tokenAddress=Address('0x9A44fd41566876A39655f74971a3A6eA0a17a454')), getAllATokens(symbol='aEthENS', tokenAddress=Address('0x545bD6c032eFdde65A377A6719DEF2796C8E0f2e')), getAllATokens(symbol='aEth1INCH', tokenAddress=Address('0x71Aef7b30728b9BB371578f36c5A1f1502a5723e')), getAllATokens(symbol='aEthFRAX', tokenAddress=Address('0xd4e245848d6E1220DBE62e155d89fa327E43CB06')), getAllATokens(symbol='aEthGHO', tokenAddress=Address('0x00907f9921424583e7ffBfEdf84F92B7B2Be4977')), getAllATokens(symbol='aEthRPL', tokenAddress=Address('0xB76CF92076adBF1D9C39294FA8e7A67579FDe357')), getAllATokens(symbol='aEthsDAI', tokenAddress=Address('0x4C612E3B15b96Ff9A6faED838F8d07d479a8dD4c')), getAllATokens(symbol='aEthSTG', tokenAddress=Address('0x1bA9843bD4327c6c77011406dE5fA8749F7E3479')), getAllATokens(symbol='aEthKNC', tokenAddress=Address('0x5b502e3796385E1e9755d7043B9C945C3aCCeC9C')), getAllATokens(symbol='aEthFXS', tokenAddress=Address('0x82F9c5ad306BBa1AD0De49bB5FA6F01bf61085ef')), getAllATokens(symbol='aEthcrvUSD', tokenAddress=Address('0xb82fa9f31612989525992FCfBB09AB22Eff5c85A')), getAllATokens(symbol='aEthPYUSD', tokenAddress=Address('0x0C0d01AbF3e6aDfcA0989eBbA9d6e85dD58EaB1E')), getAllATokens(symbol='aEthweETH', tokenAddress=Address('0xBdfa7b7893081B35Fb54027489e2Bc7A38275129')), getAllATokens(symbol='aEthosETH', tokenAddress=Address('0x927709711794F3De5DdBF1D176bEE2D55Ba13c21')), getAllATokens(symbol='aEthUSDe', tokenAddress=Address('0x4F5923Fc5FD4a93352581b38B7cD26943012DECF')), getAllATokens(symbol='aEthETHx', tokenAddress=Address('0x1c0E06a0b1A4c160c17545FF2A951bfcA57C0002')), getAllATokens(symbol='aEthsUSDe', tokenAddress=Address('0x4579a27aF00A62C0EB156349f31B345c08386419')), getAllATokens(symbol='aEthtBTC', tokenAddress=Address('0x10Ac93971cdb1F5c778144084242374473c350Da')), getAllATokens(symbol='aEthcbBTC', tokenAddress=Address('0x5c647cE0Ae10658ec44FA4E11A51c96e94efd1Dd')), getAllATokens(symbol='aEthUSDS', tokenAddress=Address('0x32a6268f9Ba3642Dda7892aDd74f1D34469A4259')), getAllATokens(symbol='aEthrsETH', tokenAddress=Address('0x2D62109243b87C4bA3EE7bA1D91B0dD0A074d7b1')), getAllATokens(symbol='aEthLBTC', tokenAddress=Address('0x65906988ADEe75306021C417a1A3458040239602')), getAllATokens(symbol='aEtheBTC', tokenAddress=Address('0x5fefd7069a7D91d01f269DADE14526CCF3487810')), getAllATokens(symbol='aEthRLUSD', tokenAddress=Address('0xFa82580c16A31D0c1bC632A36F82e83EfEF3Eec0')), getAllATokens(symbol='aEthPT_eUSDE_29MAY2025', tokenAddress=Address('0x4B0821e768Ed9039a70eD1E80E15E76a5bE5Df5F')), getAllATokens(symbol='aEthPT_sUSDE_31JUL2025', tokenAddress=Address('0xDE6eF6CB4aBd3A473ffC2942eEf5D84536F8E864')), getAllATokens(symbol='aEthUSDtb', tokenAddress=Address('0xEc4ef66D4fCeEba34aBB4dE69dB391Bc5476ccc8')), getAllATokens(symbol='aEthPT_USDe_31JUL2025', tokenAddress=Address('0x312ffC57778CEfa11989733e6E08143E7E229c1c')), getAllATokens(symbol='aEthPT_eUSDe_14AUG2025', tokenAddress=Address('0x2eDff5AF94334fBd7C38ae318edf1c40e072b73B')), getAllATokens(symbol='aEtheUSDe', tokenAddress=Address('0x5F9190496e0DFC831C3bd307978de4a245E2F5cD')), getAllATokens(symbol='aEthFBTC', tokenAddress=Address('0xcCA43ceF272c30415866914351fdfc3E881bb7c2')), getAllATokens(symbol='aEthEURC', tokenAddress=Address('0xAA6e91C82942aeAE040303Bf96c15a6dBcB82CA0'))]\n"
     ]
    }
   ],
   "source": [
    "# 30% USDC and 70% WETH\n",
    "config = get_config()\n",
    "config.reload()\n",
    "aave_protocol_data_provider = active_network.manifest_named(\"aave_protocol_data_provider\")\n",
    "a_tokens = aave_protocol_data_provider.getAllATokens()\n",
    "print(a_tokens)"
   ]
  },
  {
   "cell_type": "code",
   "execution_count": 8,
   "id": "62bce407",
   "metadata": {},
   "outputs": [
    {
     "name": "stdout",
     "output_type": "stream",
     "text": [
      "a_weth: <usdc interface at 0x4d5F47FA6A74757f35C14fD3a6Ef8E3C9BC514E8>\n",
      "a_usdc: <usdc interface at 0x98C23E9d8f34FEFb1B7BD6a91B7FF122F4e16F5c>\n"
     ]
    }
   ],
   "source": [
    "for a_token in a_tokens:\n",
    "    if \"WETH\" in a_token[0]:\n",
    "        a_weth = active_network.manifest_named(\"usdc\", address=a_token[1])\n",
    "    if \"USDC\" in a_token[0]:\n",
    "        a_usdc = active_network.manifest_named(\"usdc\", address=a_token[1])\n",
    "\n",
    "print(f\"a_weth: {a_weth}\")\n",
    "print(f\"a_usdc: {a_usdc}\")"
   ]
  },
  {
   "cell_type": "code",
   "execution_count": 9,
   "id": "fcf83980",
   "metadata": {},
   "outputs": [
    {
     "name": "stdout",
     "output_type": "stream",
     "text": [
      "a_usdc_balance_normalized: 100.0\n",
      "a_weth_balance_normalized: 1.0\n"
     ]
    }
   ],
   "source": [
    "# Get how much they are worh, to figure out what our portfolio makeup is\n",
    "a_usdc_balance = a_usdc.balanceOf(boa.env.eoa) # 6 decimals\n",
    "a_weth_balance = a_weth.balanceOf(boa.env.eoa) # 18 decimals\n",
    "\n",
    "a_usdc_balance_normalized = a_usdc_balance / (1e6)  # Normalize USDC balance to 6 decimals\n",
    "a_weth_balance_normalized = a_weth_balance / (1e18)  # Normalize WETH balance to 18 decimals\n",
    "print(f\"a_usdc_balance_normalized: {a_usdc_balance_normalized}\")\n",
    "print(f\"a_weth_balance_normalized: {a_weth_balance_normalized}\")"
   ]
  },
  {
   "cell_type": "code",
   "execution_count": 10,
   "id": "da261e02",
   "metadata": {},
   "outputs": [
    {
     "name": "stdout",
     "output_type": "stream",
     "text": [
      "USDC price: 0.99997\n",
      "WETH price: 2521.78331287\n"
     ]
    }
   ],
   "source": [
    "config.reload()\n",
    "\n",
    "def get_price(feed_name: str) -> float:\n",
    "    active_network = get_active_network()\n",
    "    price_feed = active_network.manifest_named(feed_name)\n",
    "    price = price_feed.latestAnswer()\n",
    "    decimals = price_feed.decimals()\n",
    "    decimals_normalized = 10 ** decimals\n",
    "    return price / decimals_normalized\n",
    "\n",
    "usdc_price = get_price(\"usdc_usd_price_feed\")\n",
    "weth_price = get_price(\"eth_usd_price_feed\")\n",
    "print(f\"USDC price: {usdc_price}\")\n",
    "print(f\"WETH price: {weth_price}\")"
   ]
  },
  {
   "cell_type": "code",
   "execution_count": 11,
   "id": "ce7c0369",
   "metadata": {},
   "outputs": [
    {
     "name": "stdout",
     "output_type": "stream",
     "text": [
      "True\n",
      "0.038140876834388805\n",
      "0.9618591231656113\n"
     ]
    }
   ],
   "source": [
    "usdc_value = a_usdc_balance_normalized * usdc_price\n",
    "weth_value = a_weth_balance_normalized * weth_price\n",
    "total_value = usdc_value + weth_value\n",
    "\n",
    "target_usdc_value = 0.3\n",
    "target_weth_value = 0.7\n",
    "\n",
    "usdc_percent_allocation = usdc_value / total_value\n",
    "weth_percent_allocation = weth_value / total_value\n",
    "\n",
    "BUFFER = 0.1\n",
    "\n",
    "needs_rebalancing = (\n",
    "    abs(usdc_percent_allocation - target_usdc_value) > BUFFER or abs(weth_percent_allocation - target_weth_value) > BUFFER\n",
    ")\n",
    "\n",
    "print(needs_rebalancing)\n",
    "print(usdc_percent_allocation)\n",
    "print(weth_percent_allocation)"
   ]
  },
  {
   "cell_type": "code",
   "execution_count": 12,
   "id": "4d49be71",
   "metadata": {},
   "outputs": [
    {
     "name": "stdout",
     "output_type": "stream",
     "text": [
      "USDC balance: 0\n",
      "WETH balance: 1000000000000000000\n",
      "aUSDC balance: 100000000\n",
      "aWETH balance: 0\n"
     ]
    }
   ],
   "source": [
    "a_weth.approve(pool_contract.address, a_weth.balanceOf(boa.env.eoa))\n",
    "pool_contract.withdraw(weth.address, a_weth.balanceOf(boa.env.eoa), boa.env.eoa)\n",
    "\n",
    "def print_token_balances():\n",
    "    print(f\"USDC balance: {usdc.balanceOf(boa.env.eoa)}\")  \n",
    "    print(f\"WETH balance: {weth.balanceOf(boa.env.eoa)}\")  \n",
    "    print(f\"aUSDC balance: {a_usdc.balanceOf(boa.env.eoa)}\")  # Raw USDC balance\n",
    "    print(f\"aWETH balance: {a_weth.balanceOf(boa.env.eoa)}\")  # Raw WETH balance\n",
    "\n",
    "print_token_balances()"
   ]
  },
  {
   "cell_type": "code",
   "execution_count": 13,
   "id": "2dbeaf40",
   "metadata": {},
   "outputs": [],
   "source": [
    "usdc_data = {\"balance\": a_usdc_balance_normalized, \"price\": usdc_price, \"contract\": usdc}\n",
    "weth_data = {\"balance\": a_weth_balance_normalized, \"price\": weth_price, \"contract\": weth}\n",
    "target_allocations = {\"usdc\": 0.3, \"weth\": 0.7}\n",
    "\n",
    "def calculate_rebalancing_trades(\n",
    "    usdc_data: dict,  # {\"balance\": float, \"price\": float, \"contract\": Contract}\n",
    "    weth_data: dict,  # {\"balance\": float, \"price\": float, \"contract\": Contract}\n",
    "    target_allocations: dict[str, float],  # {\"usdc\": 0.3, \"weth\": 0.7}\n",
    ") -> dict[str, dict]:\n",
    "    \"\"\"\n",
    "    Calculate the trades needed to rebalance a portfolio of USDC and WETH.\n",
    "\n",
    "    Args:\n",
    "        usdc_data: Dict containing USDC balance, price and contract\n",
    "        weth_data: Dict containing WETH balance, price and contract\n",
    "        target_allocations: Dict of token symbol to target allocation (must sum to 1)\n",
    "\n",
    "    Returns:\n",
    "        Dict of token symbol to dict containing contract and trade amount:\n",
    "            {\"usdc\": {\"contract\": Contract, \"trade\": int},\n",
    "             \"weth\": {\"contract\": Contract, \"trade\": int}}\n",
    "    \"\"\"\n",
    "    # Calculate current values\n",
    "    usdc_value = usdc_data[\"balance\"] * usdc_data[\"price\"]\n",
    "    weth_value = weth_data[\"balance\"] * weth_data[\"price\"]\n",
    "    total_value = usdc_value + weth_value\n",
    "\n",
    "    # Calculate target values\n",
    "    target_usdc_value = total_value * target_allocations[\"usdc\"]\n",
    "    target_weth_value = total_value * target_allocations[\"weth\"]\n",
    "\n",
    "    # Calculate trades needed in USD\n",
    "    usdc_trade_usd = target_usdc_value - usdc_value\n",
    "    weth_trade_usd = target_weth_value - weth_value\n",
    "\n",
    "    # Convert to token amounts\n",
    "    return {\n",
    "        \"usdc\": {\n",
    "            \"contract\": usdc_data[\"contract\"],\n",
    "            \"trade\": usdc_trade_usd / usdc_data[\"price\"],\n",
    "        },\n",
    "        \"weth\": {\n",
    "            \"contract\": weth_data[\"contract\"],\n",
    "            \"trade\": weth_trade_usd / weth_data[\"price\"],\n",
    "        },\n",
    "    }\n",
    "\n",
    "trades = calculate_rebalancing_trades(usdc_data, weth_data, target_allocations)\n",
    "\n",
    "weth_to_sell = trades[\"weth\"][\"trade\"]"
   ]
  },
  {
   "cell_type": "code",
   "execution_count": 14,
   "id": "0b99cbc9",
   "metadata": {},
   "outputs": [
    {
     "name": "stdout",
     "output_type": "stream",
     "text": [
      "Let's swap\n",
      "USDC balance: 683606705\n",
      "WETH balance: 727757301605876832\n",
      "aUSDC balance: 100000000\n",
      "aWETH balance: 0\n"
     ]
    }
   ],
   "source": [
    "config.reload()\n",
    "active_network = config.get_active_network()\n",
    "uniswap_swap_router = active_network.manifest_named(\"uniswap_swap_router\")\n",
    "\n",
    "amount_weth = abs(int(weth_to_sell * (10 ** 18)))\n",
    "\n",
    "weth.approve(uniswap_swap_router.address, amount_weth)\n",
    "\n",
    "min_out = int((trades[\"usdc\"][\"trade\"] * (10 ** 6)) * 0.90)  # 1% slippage\n",
    "\n",
    "print(\"Let's swap\")\n",
    "\n",
    "uniswap_swap_router.exactInputSingle(\n",
    "    (\n",
    "        weth.address,  # tokenIn\n",
    "        usdc.address,  # tokenOut\n",
    "        3000,  # fee\n",
    "        boa.env.eoa,  # recipient\n",
    "        amount_weth,  # deadline\n",
    "        min_out,  # amountIn\n",
    "        0,  # amountOutMinimum\n",
    "    )\n",
    ")\n",
    "\n",
    "print_token_balances()"
   ]
  },
  {
   "cell_type": "code",
   "execution_count": 15,
   "id": "1ddb5645",
   "metadata": {},
   "outputs": [
    {
     "name": "stdout",
     "output_type": "stream",
     "text": [
      "Depositing USD Coin into Aave contract 0x87870Bca3F3fD6335C3F4ce8392D69350B4fA4E2...\n",
      "Depositing Wrapped Ether into Aave contract 0x87870Bca3F3fD6335C3F4ce8392D69350B4fA4E2...\n",
      "USDC balance: 0\n",
      "WETH balance: 0\n",
      "aUSDC balance: 783606705\n",
      "aWETH balance: 727757301605876832\n",
      "Current USDC allocation: 0.299211239979574\n",
      "Current WETH allocation: 0.7007887600204261\n"
     ]
    }
   ],
   "source": [
    "amountUsdc = usdc.balanceOf(boa.env.eoa)\n",
    "deposit(pool_contract, usdc, amountUsdc)\n",
    "\n",
    "amountWeth = weth.balanceOf(boa.env.eoa)\n",
    "deposit(pool_contract, weth, amountWeth)\n",
    "\n",
    "print_token_balances()\n",
    "\n",
    "a_usdc_balance = a_usdc.balanceOf(boa.env.eoa)\n",
    "a_weth_balance = a_weth.balanceOf(boa.env.eoa)\n",
    "\n",
    "a_usdc_balance_normalized = a_usdc_balance / (1e6)  # Normalize USDC balance to 6 decimals\n",
    "a_weth_balance_normalized = a_weth_balance / (1e18)  # Normalize WETH balance to 18 decimals\n",
    "\n",
    "usdc_value = a_usdc_balance_normalized * usdc_price\n",
    "weth_value = a_weth_balance_normalized * weth_price\n",
    "\n",
    "weth_percent_allocation = weth_value / (usdc_value + weth_value)\n",
    "usdc_percent_allocation = usdc_value / (usdc_value + weth_value)\n",
    "\n",
    "print(f\"Current USDC allocation: {usdc_percent_allocation}\")\n",
    "print(f\"Current WETH allocation: {weth_percent_allocation}\")"
   ]
  }
 ],
 "metadata": {
  "kernelspec": {
   "display_name": "moccasin-project",
   "language": "python",
   "name": "python3"
  },
  "language_info": {
   "codemirror_mode": {
    "name": "ipython",
    "version": 3
   },
   "file_extension": ".py",
   "mimetype": "text/x-python",
   "name": "python",
   "nbconvert_exporter": "python",
   "pygments_lexer": "ipython3",
   "version": "3.13.3"
  }
 },
 "nbformat": 4,
 "nbformat_minor": 5
}
